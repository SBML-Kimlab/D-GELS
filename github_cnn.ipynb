{
 "cells": [
  {
   "cell_type": "markdown",
   "id": "591a7452",
   "metadata": {},
   "source": [
    "# CNN"
   ]
  },
  {
   "cell_type": "markdown",
   "id": "7ef86f93",
   "metadata": {},
   "source": [
    "## 0. Import libraries"
   ]
  },
  {
   "cell_type": "code",
   "execution_count": 1,
   "id": "037ee813",
   "metadata": {},
   "outputs": [],
   "source": [
    "import pandas as pd\n",
    "import numpy as np\n",
    "import matplotlib.pyplot as plt\n",
    "import cv2 as cv\n",
    "\n",
    "import sys\n",
    "import time\n",
    "\n",
    "from sklearn.model_selection import train_test_split\n",
    "from sklearn.model_selection import StratifiedShuffleSplit\n",
    "from sklearn import metrics\n",
    "\n",
    "import tensorflow as tf \n",
    "import keras\n",
    "from keras.models import Sequential\n",
    "from keras.layers import Dense, Dropout, Flatten\n",
    "from keras.layers.convolutional import Conv2D, MaxPooling2D\n",
    "from keras.utils import np_utils\n",
    "from tensorflow.keras.utils import plot_model"
   ]
  },
  {
   "cell_type": "markdown",
   "id": "9e8c0702",
   "metadata": {},
   "source": [
    "## 1. Load dataset"
   ]
  },
  {
   "cell_type": "code",
   "execution_count": 2,
   "id": "5d4d318f",
   "metadata": {},
   "outputs": [],
   "source": [
    "df = pd.read_csv('/home/sbml/battery_rgb/220503/resize_not_intepolate/data_T25.csv')"
   ]
  },
  {
   "cell_type": "code",
   "execution_count": 3,
   "id": "b42ff951",
   "metadata": {},
   "outputs": [
    {
     "data": {
      "text/plain": [
       "{'LFP_25C_0.5-1C_a',\n",
       " 'LFP_25C_0.5-1C_b',\n",
       " 'LFP_25C_0.5-1C_c',\n",
       " 'LFP_25C_0.5-1C_d',\n",
       " 'NCA_25C_0.5-1C_a',\n",
       " 'NCA_25C_0.5-1C_b',\n",
       " 'NCA_25C_0.5-1C_c',\n",
       " 'NCA_25C_0.5-1C_d',\n",
       " 'NMC_25C_0.5-1C_a',\n",
       " 'NMC_25C_0.5-1C_b',\n",
       " 'NMC_25C_0.5-1C_c',\n",
       " 'NMC_25C_0.5-1C_d'}"
      ]
     },
     "execution_count": 3,
     "metadata": {},
     "output_type": "execute_result"
    }
   ],
   "source": [
    "set(df['Dataset'].tolist())"
   ]
  },
  {
   "cell_type": "code",
   "execution_count": 6,
   "id": "4395a3aa",
   "metadata": {},
   "outputs": [
    {
     "data": {
      "text/plain": [
       "Index(['Unnamed: 0', 'Dataset', '#cycle', 'Capacity(dis)', 'SOH', 'RGB',\n",
       "       'scaled_RGB', 'RGB_length', 'resized', 'resized_scaled'],\n",
       "      dtype='object')"
      ]
     },
     "execution_count": 6,
     "metadata": {},
     "output_type": "execute_result"
    }
   ],
   "source": [
    "df.columns"
   ]
  },
  {
   "cell_type": "code",
   "execution_count": 7,
   "id": "674e0f81",
   "metadata": {},
   "outputs": [],
   "source": [
    "X = [eval(i) for i in df['resized_scaled'].tolist()]\n",
    "X = np.array(X)\n",
    "y = np.array(df['SOH'].tolist()) ##%changed"
   ]
  },
  {
   "cell_type": "code",
   "execution_count": 66,
   "id": "50c35b44",
   "metadata": {
    "scrolled": true
   },
   "outputs": [],
   "source": [
    "# labeling for stratified random sampling\n",
    "label = df['SOH'].tolist()\n",
    "label_l = []\n",
    "for cnt in range(len(label)):\n",
    "    i = label[cnt]\n",
    "    if i>=1.0 : \n",
    "        lab = '1~'\n",
    "        num = 0\n",
    "    elif 0.98<=i<1.0 :\n",
    "        lab = '0.98~1'\n",
    "        num = 1\n",
    "    elif 0.96<=i<0.98 :\n",
    "        lab = '0.96~0.98'\n",
    "        num = 2\n",
    "    elif 0.94<=i<0.96 :\n",
    "        lab = '0.94~0.96'\n",
    "        num = 3\n",
    "    elif 0.92<=i<0.94 :\n",
    "        lab = '0.92~0.94'\n",
    "        num = 4\n",
    "    elif 0.90<=i<0.92 :\n",
    "        lab = '0.90~0.92'\n",
    "        num = 5\n",
    "        \n",
    "    elif 0.88<=i<0.9 :\n",
    "        lab = '0.88~0.9'\n",
    "        num = 6\n",
    "    elif 0.86<=i<0.88 :\n",
    "        lab = '0.86~0.88'\n",
    "        num = 7\n",
    "    elif 0.84<=i<0.86 :\n",
    "        lab = '0.84~0.86'\n",
    "        num = 8\n",
    "    elif 0.82<=i<0.84 :\n",
    "        lab = '0.82~0.84'\n",
    "        num = 9\n",
    "    elif 0.80<=i<0.82 :\n",
    "        lab = '0.80~0.82'\n",
    "        num = 10\n",
    "        \n",
    "\n",
    "    elif 0.78<=i<0.8 :\n",
    "        lab = '0.78~0.8'\n",
    "        num = 11\n",
    "    elif 0.76<=i<0.78 :\n",
    "        lab = '0.76~0.78'\n",
    "        num = 12\n",
    "    elif 0.74<=i<0.76 :\n",
    "        lab = '0.74~0.76'\n",
    "        num = 13\n",
    "    elif 0.72<=i<0.74 :\n",
    "        lab = '0.72~0.74'\n",
    "        num = 14\n",
    "    elif 0.70<=i<0.72 :\n",
    "        lab = '0.70~0.72'\n",
    "        num = 15\n",
    "        \n",
    "    else:\n",
    "        lab = '~0.7'\n",
    "        num = 16\n",
    "    label_l.append(num)"
   ]
  },
  {
   "cell_type": "markdown",
   "id": "265dbd2f",
   "metadata": {},
   "source": [
    "## 2. cnn regression"
   ]
  },
  {
   "cell_type": "code",
   "execution_count": 33,
   "id": "4b9fad03",
   "metadata": {},
   "outputs": [],
   "source": [
    "sss = StratifiedShuffleSplit(n_splits = 10, test_size = 0.3)\n",
    "for train_idx, test_idx in sss.split(X, np.array(label_l)):\n",
    "    X_train, X_test = X[train_idx], X[test_idx]\n",
    "    y_train, y_test = np.array(y)[train_idx], np.array(y)[test_idx]\n",
    "    y_valid = np.array(label_l)[test_idx]"
   ]
  },
  {
   "cell_type": "code",
   "execution_count": 34,
   "id": "944ea34b",
   "metadata": {
    "scrolled": true
   },
   "outputs": [
    {
     "data": {
      "text/plain": [
       "(3588, 128, 3)"
      ]
     },
     "execution_count": 34,
     "metadata": {},
     "output_type": "execute_result"
    }
   ],
   "source": [
    "sss = StratifiedShuffleSplit(n_splits = 10, test_size = 0.3)\n",
    "for train_idx, test_idx1 in sss.split(X_test, y_valid):\n",
    "    X_valid, X_test_f = X_test[train_idx], X_test[test_idx1]\n",
    "    y_valid, y_test_f = np.array(y_test)[train_idx], np.array(y_test)[test_idx1]\n",
    "X_valid.shape"
   ]
  },
  {
   "cell_type": "code",
   "execution_count": 35,
   "id": "61e5eaec",
   "metadata": {
    "scrolled": true
   },
   "outputs": [],
   "source": [
    "data_list = []\n",
    "for i in df['Dataset'][test_idx[test_idx1]].tolist(): \n",
    "    if 'LFP' in i:\n",
    "        data_list.append('LFP')\n",
    "    if 'NCA' in i:\n",
    "        data_list.append('NCA')\n",
    "    if 'NMC' in i:\n",
    "        data_list.append('NMC')"
   ]
  },
  {
   "cell_type": "code",
   "execution_count": 36,
   "id": "5edbf5ce",
   "metadata": {},
   "outputs": [],
   "source": [
    "x_train = X_train\n",
    "x_valid = X_valid\n",
    "x_test = X_test_f"
   ]
  },
  {
   "cell_type": "code",
   "execution_count": 37,
   "id": "375565b1",
   "metadata": {},
   "outputs": [
    {
     "data": {
      "text/plain": [
       "(11963, 128, 3, 1)"
      ]
     },
     "execution_count": 37,
     "metadata": {},
     "output_type": "execute_result"
    }
   ],
   "source": [
    "rows = len(X[0])\n",
    "cols = 3\n",
    "input_shape = (rows, cols, 1)\n",
    "x_train = x_train.reshape(x_train.shape[0], rows, cols, 1)\n",
    "x_test = x_test.reshape(x_test.shape[0], rows, cols, 1)\n",
    "x_valid = x_valid.reshape(x_valid.shape[0], rows, cols, 1)\n",
    "\n",
    "x_train = x_train.astype('float32') /255.0\n",
    "x_test = x_test.astype('float32')/255.0\n",
    "x_valid = x_valid.astype('float32')/255.0\n",
    "\n",
    "batch_size = 64\n",
    "x_train.shape"
   ]
  },
  {
   "cell_type": "code",
   "execution_count": 44,
   "id": "c03d01ab",
   "metadata": {},
   "outputs": [
    {
     "name": "stdout",
     "output_type": "stream",
     "text": [
      "Model: \"sequential_3\"\n",
      "_________________________________________________________________\n",
      " Layer (type)                Output Shape              Param #   \n",
      "=================================================================\n",
      " conv2d_6 (Conv2D)           (None, 128, 3, 32)        160       \n",
      "                                                                 \n",
      " conv2d_7 (Conv2D)           (None, 128, 3, 64)        8256      \n",
      "                                                                 \n",
      " max_pooling2d_3 (MaxPooling  (None, 127, 2, 64)       0         \n",
      " 2D)                                                             \n",
      "                                                                 \n",
      " flatten_3 (Flatten)         (None, 16256)             0         \n",
      "                                                                 \n",
      " dense_6 (Dense)             (None, 64)                1040448   \n",
      "                                                                 \n",
      " dense_7 (Dense)             (None, 1)                 65        \n",
      "                                                                 \n",
      "=================================================================\n",
      "Total params: 1,048,929\n",
      "Trainable params: 1,048,929\n",
      "Non-trainable params: 0\n",
      "_________________________________________________________________\n"
     ]
    }
   ],
   "source": [
    "###\n",
    "model = Sequential()\n",
    "model.add(Conv2D(32, kernel_size = (2,2), strides = (1,1), padding = 'same', activation = 'relu', input_shape = input_shape))\n",
    "model.add(Conv2D(64, kernel_size = (2,2), strides = (1,1), padding = 'same', activation = 'relu', input_shape = input_shape))\n",
    "model.add(MaxPooling2D(pool_size = (2,2), strides = (1,1)))\n",
    "model.add(Flatten())\n",
    "model.add(Dense(64,activation = 'relu'))\n",
    "model.add(Dense(1))\n",
    "model.summary()\n",
    "###"
   ]
  },
  {
   "cell_type": "code",
   "execution_count": 45,
   "id": "3754bacb",
   "metadata": {
    "scrolled": true
   },
   "outputs": [
    {
     "name": "stdout",
     "output_type": "stream",
     "text": [
      "start time :  1675773199.90521\n",
      "Epoch 1/40\n",
      "374/374 [==============================] - 1s 2ms/step - loss: 0.0064 - mse: 0.0064 - val_loss: 7.6110e-04 - val_mse: 7.6110e-04\n",
      "Epoch 2/40\n",
      "374/374 [==============================] - 1s 2ms/step - loss: 8.6603e-04 - mse: 8.6603e-04 - val_loss: 5.9604e-04 - val_mse: 5.9604e-04\n",
      "Epoch 3/40\n",
      "374/374 [==============================] - 1s 2ms/step - loss: 5.1888e-04 - mse: 5.1888e-04 - val_loss: 4.0920e-04 - val_mse: 4.0920e-04\n",
      "Epoch 4/40\n",
      "374/374 [==============================] - 1s 2ms/step - loss: 3.5915e-04 - mse: 3.5915e-04 - val_loss: 2.4801e-04 - val_mse: 2.4801e-04\n",
      "Epoch 5/40\n",
      "374/374 [==============================] - 1s 2ms/step - loss: 3.6008e-04 - mse: 3.6008e-04 - val_loss: 3.3184e-04 - val_mse: 3.3184e-04\n",
      "Epoch 6/40\n",
      "374/374 [==============================] - 1s 2ms/step - loss: 9.9753e-04 - mse: 9.9753e-04 - val_loss: 3.6407e-04 - val_mse: 3.6407e-04\n",
      "Epoch 7/40\n",
      "374/374 [==============================] - 1s 2ms/step - loss: 3.2965e-04 - mse: 3.2965e-04 - val_loss: 5.3062e-04 - val_mse: 5.3062e-04\n",
      "Epoch 8/40\n",
      "374/374 [==============================] - 1s 2ms/step - loss: 2.8629e-04 - mse: 2.8629e-04 - val_loss: 4.7277e-04 - val_mse: 4.7277e-04\n",
      "Epoch 9/40\n",
      "374/374 [==============================] - 1s 2ms/step - loss: 2.9250e-04 - mse: 2.9250e-04 - val_loss: 2.0117e-04 - val_mse: 2.0117e-04\n",
      "Epoch 10/40\n",
      "374/374 [==============================] - 1s 2ms/step - loss: 2.0868e-04 - mse: 2.0868e-04 - val_loss: 2.6180e-04 - val_mse: 2.6180e-04\n",
      "Epoch 11/40\n",
      "374/374 [==============================] - 1s 2ms/step - loss: 2.6657e-04 - mse: 2.6657e-04 - val_loss: 3.8625e-04 - val_mse: 3.8625e-04\n",
      "Epoch 12/40\n",
      "374/374 [==============================] - 1s 2ms/step - loss: 2.5208e-04 - mse: 2.5208e-04 - val_loss: 2.3749e-04 - val_mse: 2.3749e-04\n",
      "Epoch 13/40\n",
      "374/374 [==============================] - 1s 2ms/step - loss: 1.9619e-04 - mse: 1.9619e-04 - val_loss: 1.5988e-04 - val_mse: 1.5988e-04\n",
      "Epoch 14/40\n",
      "374/374 [==============================] - 1s 2ms/step - loss: 2.6726e-04 - mse: 2.6726e-04 - val_loss: 1.9275e-04 - val_mse: 1.9275e-04\n",
      "Epoch 15/40\n",
      "374/374 [==============================] - 1s 2ms/step - loss: 1.7954e-04 - mse: 1.7954e-04 - val_loss: 1.3037e-04 - val_mse: 1.3037e-04\n",
      "Epoch 16/40\n",
      "374/374 [==============================] - 1s 2ms/step - loss: 1.5444e-04 - mse: 1.5444e-04 - val_loss: 1.5684e-04 - val_mse: 1.5684e-04\n",
      "Epoch 17/40\n",
      "374/374 [==============================] - 1s 2ms/step - loss: 2.2250e-04 - mse: 2.2250e-04 - val_loss: 2.3837e-04 - val_mse: 2.3837e-04\n",
      "Epoch 18/40\n",
      "374/374 [==============================] - 1s 2ms/step - loss: 1.6165e-04 - mse: 1.6165e-04 - val_loss: 2.3445e-04 - val_mse: 2.3445e-04\n",
      "Epoch 19/40\n",
      "374/374 [==============================] - 1s 2ms/step - loss: 1.1697e-04 - mse: 1.1697e-04 - val_loss: 3.6619e-04 - val_mse: 3.6619e-04\n",
      "Epoch 20/40\n",
      "374/374 [==============================] - 1s 2ms/step - loss: 1.6240e-04 - mse: 1.6240e-04 - val_loss: 1.0726e-04 - val_mse: 1.0726e-04\n",
      "Epoch 21/40\n",
      "374/374 [==============================] - 1s 2ms/step - loss: 1.1630e-04 - mse: 1.1630e-04 - val_loss: 9.0925e-05 - val_mse: 9.0925e-05\n",
      "Epoch 22/40\n",
      "374/374 [==============================] - 1s 2ms/step - loss: 1.5146e-04 - mse: 1.5146e-04 - val_loss: 1.7493e-04 - val_mse: 1.7493e-04\n",
      "Epoch 23/40\n",
      "374/374 [==============================] - 1s 2ms/step - loss: 1.0934e-04 - mse: 1.0934e-04 - val_loss: 1.2068e-04 - val_mse: 1.2068e-04\n",
      "Epoch 24/40\n",
      "374/374 [==============================] - 1s 2ms/step - loss: 1.1890e-04 - mse: 1.1890e-04 - val_loss: 1.1627e-04 - val_mse: 1.1627e-04\n",
      "Epoch 25/40\n",
      "374/374 [==============================] - 1s 2ms/step - loss: 1.4426e-04 - mse: 1.4426e-04 - val_loss: 9.4485e-05 - val_mse: 9.4485e-05\n",
      "Epoch 26/40\n",
      "374/374 [==============================] - 1s 2ms/step - loss: 1.3100e-04 - mse: 1.3100e-04 - val_loss: 1.0138e-04 - val_mse: 1.0138e-04\n",
      "Epoch 27/40\n",
      "374/374 [==============================] - 1s 2ms/step - loss: 9.7951e-05 - mse: 9.7951e-05 - val_loss: 1.4062e-04 - val_mse: 1.4062e-04\n",
      "Epoch 28/40\n",
      "374/374 [==============================] - 1s 2ms/step - loss: 1.9924e-04 - mse: 1.9924e-04 - val_loss: 8.9941e-05 - val_mse: 8.9941e-05\n",
      "Epoch 29/40\n",
      "374/374 [==============================] - 1s 2ms/step - loss: 8.8570e-05 - mse: 8.8570e-05 - val_loss: 8.6205e-05 - val_mse: 8.6205e-05\n",
      "Epoch 30/40\n",
      "374/374 [==============================] - 1s 2ms/step - loss: 8.8433e-05 - mse: 8.8433e-05 - val_loss: 7.2049e-05 - val_mse: 7.2049e-05\n",
      "Epoch 31/40\n",
      "374/374 [==============================] - 1s 2ms/step - loss: 1.0585e-04 - mse: 1.0585e-04 - val_loss: 8.5441e-05 - val_mse: 8.5441e-05\n",
      "Epoch 32/40\n",
      "374/374 [==============================] - 1s 2ms/step - loss: 1.1355e-04 - mse: 1.1355e-04 - val_loss: 8.9522e-05 - val_mse: 8.9522e-05\n",
      "Epoch 33/40\n",
      "374/374 [==============================] - 1s 2ms/step - loss: 7.5952e-05 - mse: 7.5952e-05 - val_loss: 1.5662e-04 - val_mse: 1.5662e-04\n",
      "Epoch 34/40\n",
      "374/374 [==============================] - 1s 2ms/step - loss: 9.2866e-05 - mse: 9.2866e-05 - val_loss: 1.0306e-04 - val_mse: 1.0306e-04\n",
      "Epoch 35/40\n",
      "374/374 [==============================] - 1s 2ms/step - loss: 9.1999e-05 - mse: 9.1999e-05 - val_loss: 1.0618e-04 - val_mse: 1.0618e-04\n",
      "Epoch 36/40\n",
      "374/374 [==============================] - 1s 2ms/step - loss: 8.9197e-05 - mse: 8.9197e-05 - val_loss: 1.1037e-04 - val_mse: 1.1037e-04\n",
      "Epoch 37/40\n",
      "374/374 [==============================] - 1s 2ms/step - loss: 7.1654e-05 - mse: 7.1654e-05 - val_loss: 1.3618e-04 - val_mse: 1.3618e-04\n",
      "Epoch 38/40\n",
      "374/374 [==============================] - 1s 2ms/step - loss: 8.5630e-05 - mse: 8.5630e-05 - val_loss: 7.3422e-05 - val_mse: 7.3422e-05\n",
      "Epoch 39/40\n",
      "374/374 [==============================] - 1s 2ms/step - loss: 8.2281e-05 - mse: 8.2281e-05 - val_loss: 7.8628e-05 - val_mse: 7.8628e-05\n",
      "Epoch 40/40\n",
      "374/374 [==============================] - 1s 2ms/step - loss: 8.1741e-05 - mse: 8.1741e-05 - val_loss: 8.8044e-05 - val_mse: 8.8044e-05\n"
     ]
    }
   ],
   "source": [
    "start = time.time()\n",
    "epochs = 40\n",
    "print('start time : ' , start)\n",
    "model.compile(loss = 'mean_squared_error', optimizer = 'adam', metrics = ['mse'])\n",
    "hist2 = model.fit(x_train, y_train, epochs = epochs, verbose = 1, validation_data = (x_valid, y_valid))"
   ]
  },
  {
   "cell_type": "code",
   "execution_count": 47,
   "id": "daf68291",
   "metadata": {},
   "outputs": [
    {
     "data": {
      "text/plain": [
       "Text(0.5, 1.0, 'epoch40_loss')"
      ]
     },
     "execution_count": 47,
     "metadata": {},
     "output_type": "execute_result"
    },
    {
     "data": {
      "image/png": "[encoded data removed]",
      "text/plain": [
       "<Figure size 432x288 with 1 Axes>"
      ]
     },
     "metadata": {
      "needs_background": "light"
     },
     "output_type": "display_data"
    }
   ],
   "source": [
    "y_vloss = hist2.history['val_loss']\n",
    "y_loss = hist2.history['loss']\n",
    "x_len = np.arange(len(y_loss))\n",
    "\n",
    "plt.plot(x_len, y_vloss, marker='.', c='red', label=\"Validation-set Loss\")\n",
    "plt.plot(x_len, y_loss, marker='.', c='blue', label=\"Train-set Loss\")\n",
    "plt.legend()\n",
    "plt.title('epoch40_loss')"
   ]
  },
  {
   "cell_type": "code",
   "execution_count": 48,
   "id": "91a9f486",
   "metadata": {},
   "outputs": [],
   "source": [
    "predict = model.predict(x_test, verbose = 0)"
   ]
  },
  {
   "cell_type": "code",
   "execution_count": 50,
   "id": "20cd295e",
   "metadata": {
    "scrolled": false
   },
   "outputs": [
    {
     "data": {
      "image/png": "[encoded data removed]",
      "text/plain": [
       "<Figure size 432x288 with 1 Axes>"
      ]
     },
     "metadata": {
      "needs_background": "light"
     },
     "output_type": "display_data"
    }
   ],
   "source": [
    "p = []\n",
    "t = []\n",
    "for i in range(len(predict)):\n",
    "    p.append(predict[i])\n",
    "    t.append(y_test_f[i])\n",
    "    #print('predicted SOH: ' , predict[i],',' , 'Answer SOH: '  , y_test[i])\n",
    "    \n",
    "plt.scatter(y_test_f, predict)\n",
    "plt.plot(y_test_f, y_test_f)\n",
    "plt.show()"
   ]
  },
  {
   "cell_type": "code",
   "execution_count": 792,
   "id": "02e91d30",
   "metadata": {},
   "outputs": [],
   "source": [
    "#model.save('/home/sbml/battery_rgb/220610/resize_not_intepolate/CNN/model_candidates/cnn4.h5')"
   ]
  },
  {
   "cell_type": "code",
   "execution_count": 67,
   "id": "a21a7453",
   "metadata": {},
   "outputs": [],
   "source": [
    "dic = {}\n",
    "dic['x_test_SOH'] = t\n",
    "dic['predict_SOH'] = p\n",
    "dic['data'] = data_list\n",
    "data = pd.DataFrame(dic)"
   ]
  },
  {
   "cell_type": "code",
   "execution_count": 58,
   "id": "66c5b24f",
   "metadata": {},
   "outputs": [],
   "source": [
    "r2 = metrics.r2_score(y_test_f, predict)\n",
    "rmse = metrics.mean_squared_error(y_test_f, predict)**0.5\n",
    "mse = metrics.mean_squared_error(y_test_f, predict)\n",
    "mae = metrics.mean_absolute_error(y_test_f, predict)\n",
    "mape = metrics.mean_absolute_percentage_error(y_test_f,predict)"
   ]
  },
  {
   "cell_type": "code",
   "execution_count": 64,
   "id": "d275ba05",
   "metadata": {},
   "outputs": [],
   "source": [
    "dic = {}\n",
    "dic['r2'] = [r2]\n",
    "dic['rmse'] = [rmse]\n",
    "dic['mse'] = [mse]\n",
    "dic['mae'] = [mae]\n",
    "dic['mape'] = [mape]\n",
    "d = pd.DataFrame(dic)"
   ]
  },
  {
   "cell_type": "code",
   "execution_count": 65,
   "id": "6864eab7",
   "metadata": {},
   "outputs": [
    {
     "data": {
      "text/html": [
       "<div>\n",
       "<style scoped>\n",
       "    .dataframe tbody tr th:only-of-type {\n",
       "        vertical-align: middle;\n",
       "    }\n",
       "\n",
       "    .dataframe tbody tr th {\n",
       "        vertical-align: top;\n",
       "    }\n",
       "\n",
       "    .dataframe thead th {\n",
       "        text-align: right;\n",
       "    }\n",
       "</style>\n",
       "<table border=\"1\" class=\"dataframe\">\n",
       "  <thead>\n",
       "    <tr style=\"text-align: right;\">\n",
       "      <th></th>\n",
       "      <th>r2</th>\n",
       "      <th>rmse</th>\n",
       "      <th>mse</th>\n",
       "      <th>mae</th>\n",
       "      <th>mape</th>\n",
       "    </tr>\n",
       "  </thead>\n",
       "  <tbody>\n",
       "    <tr>\n",
       "      <th>0</th>\n",
       "      <td>0.978934</td>\n",
       "      <td>0.008305</td>\n",
       "      <td>0.000069</td>\n",
       "      <td>0.006278</td>\n",
       "      <td>0.006745</td>\n",
       "    </tr>\n",
       "  </tbody>\n",
       "</table>\n",
       "</div>"
      ],
      "text/plain": [
       "         r2      rmse       mse       mae      mape\n",
       "0  0.978934  0.008305  0.000069  0.006278  0.006745"
      ]
     },
     "execution_count": 65,
     "metadata": {},
     "output_type": "execute_result"
    }
   ],
   "source": [
    "d"
   ]
  },
  {
   "cell_type": "code",
   "execution_count": null,
   "id": "5bb31bd7",
   "metadata": {},
   "outputs": [],
   "source": []
  }
 ],
 "metadata": {
  "kernelspec": {
   "display_name": "Python 3",
   "language": "python",
   "name": "python3"
  },
  "language_info": {
   "codemirror_mode": {
    "name": "ipython",
    "version": 3
   },
   "file_extension": ".py",
   "mimetype": "text/x-python",
   "name": "python",
   "nbconvert_exporter": "python",
   "pygments_lexer": "ipython3",
   "version": "3.8.8"
  }
 },
 "nbformat": 4,
 "nbformat_minor": 5
}
